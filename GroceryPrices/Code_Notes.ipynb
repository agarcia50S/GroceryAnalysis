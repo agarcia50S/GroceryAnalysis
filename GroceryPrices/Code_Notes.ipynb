{
 "cells": [
  {
   "cell_type": "markdown",
   "metadata": {},
   "source": [
    "### Issue with finding attributes or tags from .find_all() output:\n",
    "\n",
    "In this case the method returned:\n",
    "\n",
    "[<h2 class=\"ProductCard_card__title__text__uiWLe\"><a class=\"Link_link__1AZfr ProductCard_card__title__301JH ProductCard_card__title__large__3bAY6\" href=\"/home/products/pdp/baby-shanghai-bok-choy-098253\" tabindex=\"-1\">Baby Shanghai Bok Choy</a></h2>]\n",
    "\n",
    "(Note: Multiple h2 tags were in the object; only is shown for brevity)\n",
    "\n",
    "It is a bs4.element.ResultSet object which is a subclass of a list and each of its items is a bs4.element.Tag object. Due to this we need to iterate over ResultSet items and use .find('a').get('href'). \n",
    "\n",
    ".find('a') gets the *a* tag and returns it as a string. The .get('href') gets the link and returns it as a class 'str'.\n",
    "\n",
    "Example:\n",
    "\n",
    "    for i in result_set:\n",
    "        link = i.find('a').get('href')\n",
    "        print(link)\n",
    "\n",
    "    >>> /home/products/pdp/baby-shanghai-bok-choy-098253"
   ]
  },
  {
   "cell_type": "markdown",
   "metadata": {},
   "source": [
    "### Cheat Sheet:\n",
    "\n",
    "Scroll page with:\n",
    "\n",
    "        driver.execute_script(\"window.scrollTo(0,3150)\",\"\") # argument is JS\n",
    "\n",
    "Relative xpath:\n",
    "\n",
    "        //tagname[@attribute='value']\n",
    "\n",
    ".click() being intercepted by other element:\n",
    "* use driver.execute_script(**\"arguments[0].click();\", element**) # argument is JS\n",
    "\n"
   ]
  },
  {
   "cell_type": "markdown",
   "metadata": {},
   "source": [
    "### VisibilityOfElementLocated Vs presenceOfElementLocated\n",
    "\n",
    "StackOverflow\n",
    "\n",
    "https://stackoverflow.com/questions/38038920/visibilityofelementlocated-vs-presenceofelementlocated#:~:text=use%20presenceOfElementLocated%20when%20you%20don,which%20should%20be%20also%20visible.\n",
    "\n",
    "VisibilityOfElementLocated\n",
    "* use when we need the displayment element and having a height and width > 0 matters\n",
    "* use when we ONLY need to know if element is currently present in webpage (i.e. DOM)\n",
    "\n",
    "\n"
   ]
  }
 ],
 "metadata": {
  "kernelspec": {
   "display_name": "Python 3.9.13 ('pp_env': venv)",
   "language": "python",
   "name": "python3"
  },
  "language_info": {
   "name": "python",
   "version": "3.9.13"
  },
  "orig_nbformat": 4,
  "vscode": {
   "interpreter": {
    "hash": "621e2bed537361f802fcc80577f59834c1cfdd0ea93614b7497962a377ffb48b"
   }
  }
 },
 "nbformat": 4,
 "nbformat_minor": 2
}
