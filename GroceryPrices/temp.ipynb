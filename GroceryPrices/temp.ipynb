{
 "cells": [
  {
   "cell_type": "markdown",
   "metadata": {},
   "source": [
    "<div id='spa-root'>\n",
    "    <div>\n",
    "        <div class=\"aem-page product-category-page page basicpage\"> \n",
    "            <div>\n",
    "                <div class=\"Container_fullContainer__aBTs5 fullContainer\"> == 0$\n",
    "                    <div class=\"aem-container aem-Grid aem-Grid--12 aem-Grid--default--12\">\n",
    "                    \n"
   ]
  },
  {
   "cell_type": "markdown",
   "metadata": {},
   "source": [
    "...\n",
    "    <ul class=\"ProductList_productList__list__3-dGs\"> # this tag contains all lists for each food item\n",
    "        # These lists contain the info for each food item\n",
    "        <li class=\"ProductList_productList__item__1EIvq\">\n",
    "        ...\n",
    "        <li class=\"ProductList_productList__item__1EIvq\">\n",
    "\n",
    "\n"
   ]
  }
 ],
 "metadata": {
  "kernelspec": {
   "display_name": "Python 3.9.13 ('pp_env': venv)",
   "language": "python",
   "name": "python3"
  },
  "language_info": {
   "name": "python",
   "version": "3.9.13"
  },
  "orig_nbformat": 4,
  "vscode": {
   "interpreter": {
    "hash": "621e2bed537361f802fcc80577f59834c1cfdd0ea93614b7497962a377ffb48b"
   }
  }
 },
 "nbformat": 4,
 "nbformat_minor": 2
}
