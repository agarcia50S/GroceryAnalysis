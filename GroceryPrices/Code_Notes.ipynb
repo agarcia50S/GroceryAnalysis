{
 "cells": [
  {
   "cell_type": "markdown",
   "metadata": {},
   "source": [
    "### Issue with finding attributes or tags from .find_all() output:\n",
    "\n",
    "In this case the method returned:\n",
    "\n",
    "[<h2 class=\"ProductCard_card__title__text__uiWLe\"><a class=\"Link_link__1AZfr ProductCard_card__title__301JH ProductCard_card__title__large__3bAY6\" href=\"/home/products/pdp/baby-shanghai-bok-choy-098253\" tabindex=\"-1\">Baby Shanghai Bok Choy</a></h2>]\n",
    "\n",
    "(Note: Multiple h2 tags were in the object; only is shown for brevity)\n",
    "\n",
    "It is a bs4.element.ResultSet object which is a subclass of a list and each of its items is a bs4.element.Tag object. Due to this we need to iterate over ResultSet items and use .find('a').get('href'). \n",
    "\n",
    ".find('a') gets the *a* tag and returns it as a string. The .get('href') gets the link and returns it as a class 'str'.\n",
    "\n",
    "Example:\n",
    "\n",
    "    for i in result_set:\n",
    "        link = i.find('a').get('href')\n",
    "        print(link)\n",
    "\n",
    "    >>> /home/products/pdp/baby-shanghai-bok-choy-098253"
   ]
  },
  {
   "cell_type": "code",
   "execution_count": null,
   "metadata": {},
   "outputs": [],
   "source": []
  },
  {
   "cell_type": "code",
   "execution_count": null,
   "metadata": {},
   "outputs": [],
   "source": []
  }
 ],
 "metadata": {
  "kernelspec": {
   "display_name": "Python 3.9.13 ('pp_env': venv)",
   "language": "python",
   "name": "python3"
  },
  "language_info": {
   "name": "python",
   "version": "3.9.13"
  },
  "orig_nbformat": 4,
  "vscode": {
   "interpreter": {
    "hash": "621e2bed537361f802fcc80577f59834c1cfdd0ea93614b7497962a377ffb48b"
   }
  }
 },
 "nbformat": 4,
 "nbformat_minor": 2
}
